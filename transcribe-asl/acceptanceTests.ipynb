{
 "cells": [
  {
   "cell_type": "code",
   "execution_count": null,
   "metadata": {},
   "outputs": [],
   "source": [
    "# Loop through a list of images, compare the output with the alg. Compare the output to what is defined.\n",
    "\n",
    "\n",
    "# How do we handle not still images? Do we train on not still images? Classification\n",
    "\n",
    "\n",
    "import glob\n",
    "import pandas as pd\n",
    "import matplotlib\n",
    "\n",
    "mypath = './gestures'\n",
    "\n",
    "print(glob.glob(\"./gestures/ONE.csv\"))\n",
    "gesture_files = glob.glob(\"./gestures/ONE*.csv\")\n",
    "\n",
    "# start at the first five.. TODO: remove\n",
    "for indx, gesture_file in enumerate(gesture_files):\n",
    "  if indx > 2:\n",
    "    break\n",
    "  print(gesture_file)\n",
    "  df = pd.read_csv(gesture_file)\n",
    "  \n",
    "  print(df.head())\n",
    "  # Get the middle value.\n",
    "  print(df['time'].astype('datetime64[ns]').quantile(0.5, interpolation=\"midpoint\"))\n",
    "  from terminalplot import plot\n",
    "  plot(df['x'], df['y'])\n",
    "  print(df.columns)"
   ]
  }
 ],
 "metadata": {
  "language_info": {
   "name": "python"
  }
 },
 "nbformat": 4,
 "nbformat_minor": 2
}

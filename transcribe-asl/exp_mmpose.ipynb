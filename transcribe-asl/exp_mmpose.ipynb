{
 "cells": [
  {
   "cell_type": "code",
   "execution_count": 13,
   "metadata": {},
   "outputs": [
    {
     "name": "stdout",
     "output_type": "stream",
     "text": [
      "04/02 14:28:38 - mmengine - \u001b[5m\u001b[4m\u001b[33mWARNING\u001b[0m - The current default scope \"mmdet\" is not \"mmpose\", `init_default_scope` will force set the currentdefault scope to \"mmpose\".\n",
      "Loads checkpoint by http backend from path: https://download.openmmlab.com/mmpose/v1/projects/rtmposev1/rtmpose-m_simcc-hand5_pt-aic-coco_210e-256x256-74fb594_20230320.pth\n",
      "04/02 14:28:38 - mmengine - \u001b[5m\u001b[4m\u001b[33mWARNING\u001b[0m - The current default scope \"mmpose\" is not \"mmdet\", `init_default_scope` will force set the currentdefault scope to \"mmdet\".\n",
      "Loads checkpoint by http backend from path: https://download.openmmlab.com/mmpose/v1/projects/rtmposev1/rtmdet_nano_8xb32-300e_hand-267f9c8f.pth\n"
     ]
    },
    {
     "name": "stderr",
     "output_type": "stream",
     "text": [
      "/home/roger/Documents/2-Upwork/gesture/shrine-exp/transcribe-asl/venv/lib/python3.10/site-packages/mmpose/datasets/datasets/utils.py:102: UserWarning: The metainfo config file \"configs/_base_/datasets/onehand10k.py\" does not exist. A matched config file \"/home/roger/Documents/2-Upwork/gesture/shrine-exp/transcribe-asl/venv/lib/python3.10/site-packages/mmpose/.mim/configs/_base_/datasets/onehand10k.py\" will be used instead.\n",
      "  warnings.warn(\n",
      "/home/roger/Documents/2-Upwork/gesture/shrine-exp/transcribe-asl/venv/lib/python3.10/site-packages/mmdet/apis/det_inferencer.py:154: UserWarning: palette does not exist, random is used by default. You can also set the palette to customize.\n",
      "  warnings.warn(\n"
     ]
    }
   ],
   "source": [
    "from mmpose.apis import MMPoseInferencer\n",
    "import cv2\n",
    "\n",
    "# instantiate the inferencer using the model alias\n",
    "inferencer = MMPoseInferencer('hand')\n",
    "\n",
    "# The MMPoseInferencer API employs a lazy inference approach,\n",
    "# creating a prediction generator when given input\n",
    "img_path = 'images_of_gestures/A.jpg'\n",
    "img = cv2.imread(img_path)"
   ]
  },
  {
   "cell_type": "code",
   "execution_count": 16,
   "metadata": {},
   "outputs": [],
   "source": [
    "result_generator = inferencer(img)\n",
    "result = next(result_generator)"
   ]
  },
  {
   "cell_type": "code",
   "execution_count": 18,
   "metadata": {},
   "outputs": [
    {
     "data": {
      "text/plain": [
       "defaultdict(list,\n",
       "            {'visualization': None,\n",
       "             'predictions': [[{'keypoints': [[481.69647216796875,\n",
       "                  689.9685668945312],\n",
       "                 [584.9451293945312, 637.5247802734375],\n",
       "                 [665.2496948242188, 535.9149780273438],\n",
       "                 [699.6658935546875, 449.8744201660156],\n",
       "                 [726.7072143554688, 370.38934326171875],\n",
       "                 [640.6666870117188, 457.24932861328125],\n",
       "                 [643.1249389648438, 359.7366943359375],\n",
       "                 [643.1249389648438, 444.1383972167969],\n",
       "                 [639.8472290039062, 483.4712219238281],\n",
       "                 [569.3759155273438, 453.15216064453125],\n",
       "                 [579.2091064453125, 378.58367919921875],\n",
       "                 [580.028564453125, 482.65179443359375],\n",
       "                 [570.1953125, 507.23480224609375],\n",
       "                 [498.08514404296875, 444.1383972167969],\n",
       "                 [509.5572204589844, 401.52783203125],\n",
       "                 [515.2932739257812, 507.23480224609375],\n",
       "                 [514.4738159179688, 526.9012451171875],\n",
       "                 [420.2389221191406, 467.9019775390625],\n",
       "                 [446.4608154296875, 425.2914123535156],\n",
       "                 [457.9328918457031, 508.8736877441406],\n",
       "                 [454.6551513671875, 519.5263061523438]],\n",
       "                'keypoint_scores': [0.5358842611312866,\n",
       "                 0.3128945231437683,\n",
       "                 0.42120951414108276,\n",
       "                 0.6273008584976196,\n",
       "                 0.8488857746124268,\n",
       "                 0.5346941947937012,\n",
       "                 0.7953197956085205,\n",
       "                 0.6086971759796143,\n",
       "                 0.5825492143630981,\n",
       "                 0.38823068141937256,\n",
       "                 0.7018046975135803,\n",
       "                 0.5532535314559937,\n",
       "                 0.4871647357940674,\n",
       "                 0.34148743748664856,\n",
       "                 0.6874830722808838,\n",
       "                 0.5531742572784424,\n",
       "                 0.5343132019042969,\n",
       "                 0.35282498598098755,\n",
       "                 0.7738027572631836,\n",
       "                 0.5273739099502563,\n",
       "                 0.556065559387207],\n",
       "                'bbox': ([395.0003662109375,\n",
       "                  358.83660888671875,\n",
       "                  730.6405029296875,\n",
       "                  693.3270263671875],),\n",
       "                'bbox_score': 0.5995713}]]})"
      ]
     },
     "execution_count": 18,
     "metadata": {},
     "output_type": "execute_result"
    }
   ],
   "source": [
    "result"
   ]
  }
 ],
 "metadata": {
  "kernelspec": {
   "display_name": "venv",
   "language": "python",
   "name": "python3"
  },
  "language_info": {
   "codemirror_mode": {
    "name": "ipython",
    "version": 3
   },
   "file_extension": ".py",
   "mimetype": "text/x-python",
   "name": "python",
   "nbconvert_exporter": "python",
   "pygments_lexer": "ipython3",
   "version": "3.10.12"
  }
 },
 "nbformat": 4,
 "nbformat_minor": 2
}
